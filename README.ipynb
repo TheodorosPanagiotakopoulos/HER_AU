{
 "cells": [
  {
   "cell_type": "markdown",
   "metadata": {},
   "source": "# Slow Growth Method for Modeling Activation Barriers Using the Trapezoidal Rule\n\nThis Jupyter Notebook explains the **slow-growth method** for modeling activation barriers in chemical reactions using the **trapezoidal rule**. The method numerically integrates the reaction coordinate, allowing efficient free energy calculations."
  },
  {
   "cell_type": "markdown",
   "metadata": {},
   "source": "## Table of Contents\n1. [Introduction](#introduction)\n2. [Background](#background)\n3. [Theoretical Framework](#theoretical-framework)\n4. [Methodology](#methodology)\n    - [Slow Growth Method](#slow-growth-method)\n    - [Trapezoidal Rule](#trapezoidal-rule)\n5. [Installation](#installation)"
  },
  {
   "cell_type": "markdown",
   "metadata": {},
   "source": "## Introduction\n\nChemical reactions often proceed through a transition state, requiring additional energy to overcome an **activation barrier**. The **slow-growth method** provides a systematic way to compute free energy changes by gradually perturbing the system along the reaction coordinate."
  },
  {
   "cell_type": "markdown",
   "metadata": {},
   "source": "## Background\n- **Slow Growth Method**: A free energy calculation technique where the system is perturbed incrementally, assuming it remains quasi-equilibrated at each step.\n- **Trapezoidal Rule**: A numerical integration method that approximates the area under a curve by dividing it into trapezoidal segments."
  },
  {
   "cell_type": "markdown",
   "metadata": {},
   "source": "## Theoretical Framework\n\nThe work required to transition the system from one state to another is determined by integrating the force acting on the system as the collective variable changes:\n\n\\[\n\\Delta \\Omega = \\int \\frac{\\partial \\Omega}{\\partial \\xi} \\cdot \\dot{\\xi} \\, d\\xi\n\\]\n\nWhere:\n- \\( \\Omega(x) \\): The grand-canonical free energy as a function of the reaction coordinate \\( \\xi \\)\n- \\( \\frac{\\partial \\Omega}{\\partial \\xi} \\): The force acting along the reaction coordinate\n- \\( \\dot{\\xi} \\): The rate of change of the reaction coordinate"
  },
  {
   "cell_type": "markdown",
   "metadata": {},
   "source": "## Methodology\n\n### Slow Growth Method\nThe reaction coordinate is divided into small steps, and the free energy difference \\( \\Delta G \\) is computed iteratively. The system's potential energy surface is sampled at each step, allowing for the evaluation of the incremental change in energy.\n\n### Trapezoidal Rule\nTo integrate the force \\( F(\\lambda) \\) along the reaction coordinate \\( \\lambda \\), we apply the trapezoidal rule:\n\n\\[\n\\Delta G \\approx \\sum \\left(\\frac{\\Delta \\lambda}{2} \\right) \\cdot \\left[F(\\lambda_i) + F(\\lambda_{i+1})\\right]\n\\]\n\nWhere:\n- \\( \\lambda \\): The reaction coordinate\n- \\( F(\\lambda) \\): The force acting along the reaction coordinate\n- \\( \\Delta \\lambda \\): The step size"
  },
  {
   "cell_type": "markdown",
   "metadata": {},
   "source": "## Installation\n\nTo use this repository, clone it with the following command:\n\n```\ngit clone https://github.com/theodorosP/HER_AU.git\ncd HER_AU\n```\n"
  },
  {
   "cell_type": "code",
   "metadata": {},
   "source": "# Example Python code cell: Trapezoidal Rule Implementation\nimport numpy as np\n\n# Trapezoidal Rule Function\ndef trapezoidal_rule(f, a, b, n):\n    x = np.linspace(a, b, n + 1)\n    y = f(x)\n    return (b - a) / (2 * n) * np.sum(y[:-1] + y[1:])\n\n# Example function for testing\nf = lambda x: x**2\nresult = trapezoidal_rule(f, 0, 1, 100)\nprint(\"Trapezoidal Rule Result:\", result)"
  }
 ],
 "metadata": {
  "kernelspec": {
   "display_name": "Python 3",
   "language": "python",
   "name": "python3"
  },
  "language_info": {
   "codemirror_mode": {
    "name": "ipython",
    "version": 3
   },
   "file_extension": ".py",
   "mimetype": "text/x-python",
   "name": "python",
   "nbconvert_exporter": "python",
   "pygments_lexer": "ipython3",
   "version": "3.8"
  }
 },
 "nbformat": 4,
 "nbformat_minor": 4
}
